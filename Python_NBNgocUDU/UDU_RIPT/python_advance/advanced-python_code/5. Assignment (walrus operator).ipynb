{
 "cells": [
  {
   "cell_type": "code",
   "execution_count": null,
   "id": "dcdd5128",
   "metadata": {},
   "outputs": [],
   "source": [
    "# Assignment expressions allow variable assignments to occur inside of larger expressions"
   ]
  },
  {
   "cell_type": "code",
   "execution_count": 8,
   "id": "524dbac5",
   "metadata": {},
   "outputs": [],
   "source": [
    "# Text processing\n",
    "\n",
    "def preprocess(data, maxLength):\n",
    "    dataLength = len(data)\n",
    "\n",
    "    if dataLength <= maxLength:\n",
    "        padding = maxLength - dataLength\n",
    "        print(f'padding={padding}')\n",
    "    else:\n",
    "        cutting = dataLength - maxLength\n",
    "        print(f'cutting={cutting}')"
   ]
  },
  {
   "cell_type": "code",
   "execution_count": 9,
   "id": "406f2e6b",
   "metadata": {},
   "outputs": [
    {
     "name": "stdout",
     "output_type": "stream",
     "text": [
      "padding=2\n"
     ]
    }
   ],
   "source": [
    "data = ['a', 'b', 'c']\n",
    "maxLength = 5\n",
    "\n",
    "preprocess(data, maxLength)"
   ]
  },
  {
   "cell_type": "code",
   "execution_count": 10,
   "id": "6da140d4",
   "metadata": {},
   "outputs": [
    {
     "name": "stdout",
     "output_type": "stream",
     "text": [
      "cutting=1\n"
     ]
    }
   ],
   "source": [
    "data = ['a', 'b', 'c', 'd', 'e', 'f']\n",
    "maxLength = 5\n",
    "\n",
    "preprocess(data, maxLength)"
   ]
  },
  {
   "cell_type": "code",
   "execution_count": null,
   "id": "df57d841",
   "metadata": {},
   "outputs": [],
   "source": []
  },
  {
   "cell_type": "code",
   "execution_count": 11,
   "id": "fa78cddb",
   "metadata": {},
   "outputs": [],
   "source": [
    "# Text processing\n",
    "# Using Walrus operator\n",
    "\n",
    "def preprocess(data, maxLength):\n",
    "    if (dataLength := len(data)) <= maxLength:\n",
    "        padding = maxLength - dataLength\n",
    "        print(f'padding={padding}')\n",
    "    else:\n",
    "        cutting = dataLength - maxLength\n",
    "        print(f'cutting={cutting}')"
   ]
  },
  {
   "cell_type": "code",
   "execution_count": 12,
   "id": "876711b8",
   "metadata": {},
   "outputs": [
    {
     "name": "stdout",
     "output_type": "stream",
     "text": [
      "padding=2\n"
     ]
    }
   ],
   "source": [
    "data = ['a', 'b', 'c']\n",
    "maxLength = 5\n",
    "\n",
    "preprocess(data, maxLength)"
   ]
  },
  {
   "cell_type": "code",
   "execution_count": 13,
   "id": "2e90478d",
   "metadata": {},
   "outputs": [
    {
     "name": "stdout",
     "output_type": "stream",
     "text": [
      "cutting=1\n"
     ]
    }
   ],
   "source": [
    "data = ['a', 'b', 'c', 'd', 'e', 'f']\n",
    "maxLength = 5\n",
    "\n",
    "preprocess(data, maxLength)"
   ]
  },
  {
   "cell_type": "code",
   "execution_count": null,
   "id": "71621fd6",
   "metadata": {},
   "outputs": [],
   "source": []
  },
  {
   "cell_type": "code",
   "execution_count": null,
   "id": "d7f1585d",
   "metadata": {},
   "outputs": [],
   "source": []
  },
  {
   "cell_type": "code",
   "execution_count": null,
   "id": "5c49628d",
   "metadata": {},
   "outputs": [],
   "source": []
  },
  {
   "cell_type": "code",
   "execution_count": null,
   "id": "0c464f6f",
   "metadata": {},
   "outputs": [],
   "source": []
  },
  {
   "cell_type": "code",
   "execution_count": 16,
   "id": "dbe6ee99",
   "metadata": {},
   "outputs": [
    {
     "name": "stdout",
     "output_type": "stream",
     "text": [
      "6\n",
      "8\n",
      "8\n",
      "5\n"
     ]
    }
   ],
   "source": [
    "import random\n",
    "\n",
    "while True:\n",
    "    value = random.randint(0, 9)\n",
    "    print(value)\n",
    "    \n",
    "    if value==5:\n",
    "        break"
   ]
  },
  {
   "cell_type": "code",
   "execution_count": null,
   "id": "30af7eec",
   "metadata": {},
   "outputs": [],
   "source": []
  },
  {
   "cell_type": "code",
   "execution_count": 22,
   "id": "5f870846",
   "metadata": {},
   "outputs": [
    {
     "name": "stdout",
     "output_type": "stream",
     "text": [
      "6\n",
      "5\n"
     ]
    }
   ],
   "source": [
    "import random\n",
    "\n",
    "value = random.randint(0, 9)\n",
    "print(value)\n",
    "    \n",
    "while value != 5:\n",
    "    value = random.randint(0, 9)\n",
    "    print(value)"
   ]
  },
  {
   "cell_type": "code",
   "execution_count": null,
   "id": "910d1d70",
   "metadata": {},
   "outputs": [],
   "source": []
  },
  {
   "cell_type": "code",
   "execution_count": 7,
   "id": "705af2b3",
   "metadata": {},
   "outputs": [
    {
     "name": "stdout",
     "output_type": "stream",
     "text": [
      "8\n",
      "6\n",
      "8\n",
      "8\n",
      "9\n",
      "1\n"
     ]
    }
   ],
   "source": [
    "# Generate random numbers until getting 5\n",
    "import random\n",
    "    \n",
    "while (value := random.randint(0, 9)) != 5:\n",
    "    print(value)"
   ]
  },
  {
   "cell_type": "code",
   "execution_count": 23,
   "id": "0c8b350a",
   "metadata": {},
   "outputs": [
    {
     "name": "stdout",
     "output_type": "stream",
     "text": [
      "True\n",
      "True\n",
      "True\n"
     ]
    }
   ],
   "source": [
    "# Generate random numbers until getting 5\n",
    "import random\n",
    "    \n",
    "while value := random.randint(0, 9) != 5:\n",
    "    print(value)"
   ]
  },
  {
   "cell_type": "code",
   "execution_count": null,
   "id": "ab6375af",
   "metadata": {},
   "outputs": [],
   "source": []
  }
 ],
 "metadata": {
  "kernelspec": {
   "display_name": "Python 3 (ipykernel)",
   "language": "python",
   "name": "python3"
  },
  "language_info": {
   "codemirror_mode": {
    "name": "ipython",
    "version": 3
   },
   "file_extension": ".py",
   "mimetype": "text/x-python",
   "name": "python",
   "nbconvert_exporter": "python",
   "pygments_lexer": "ipython3",
   "version": "3.9.12"
  }
 },
 "nbformat": 4,
 "nbformat_minor": 5
}
