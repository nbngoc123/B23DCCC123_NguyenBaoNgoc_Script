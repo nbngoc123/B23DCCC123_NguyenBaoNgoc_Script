{
 "cells": [
  {
   "cell_type": "markdown",
   "metadata": {
    "id": "ePuIZzJY8yoZ"
   },
   "source": [
    "## Classes and Objects"
   ]
  },
  {
   "cell_type": "markdown",
   "metadata": {
    "id": "NycoZXL98yoc"
   },
   "source": [
    "### class and instance attribute"
   ]
  },
  {
   "cell_type": "code",
   "execution_count": null,
   "metadata": {
    "id": "GhlCujNn8yod",
    "outputId": "8717b8f3-5d87-4586-b6c5-b0c7066cb563"
   },
   "outputs": [
    {
     "name": "stdout",
     "output_type": "stream",
     "text": [
      "Rodger is a mammal\n",
      "Tommy is also a mammal\n",
      "My name is Rodger\n",
      "My category is mammal\n",
      "My name is Tommy\n",
      "My category is mammal\n"
     ]
    }
   ],
   "source": [
    "class Dog:\n",
    "    # class attribute\n",
    "    # for constants\n",
    "    category = \"mammal\"\n",
    "    \n",
    "    # Instance attribute\n",
    "    # __init__ is known as the constructor\n",
    "    def __init__(self, name):\n",
    "        self.name = name\n",
    "\n",
    "# Object instantiation\n",
    "rodger = Dog(\"Rodger\")\n",
    "tommy = Dog(\"Tommy\")\n",
    "  \n",
    "# Accessing class attributes\n",
    "print(f\"Rodger is a {Dog.category}\")\n",
    "print(f\"Tommy is also a {Dog.category}\")\n",
    "  \n",
    "# Accessing instance attributes\n",
    "print(f\"My name is {rodger.name}\")\n",
    "print(f\"My category is {rodger.category}\")\n",
    "\n",
    "print(f\"My name is {tommy.name}\")\n",
    "print(f\"My category is {tommy.category}\")"
   ]
  },
  {
   "cell_type": "code",
   "execution_count": null,
   "metadata": {
    "id": "M6jYJBPc8yoe"
   },
   "outputs": [],
   "source": []
  },
  {
   "cell_type": "code",
   "execution_count": null,
   "metadata": {
    "id": "zWtPF45-8yof"
   },
   "outputs": [],
   "source": [
    "# another example\n",
    "class Point:\n",
    "    # class attribute\n",
    "    x = 0\n",
    "    y = 0"
   ]
  },
  {
   "cell_type": "code",
   "execution_count": null,
   "metadata": {
    "id": "MwyX-Pje8yof",
    "outputId": "ce455efe-e21e-4521-c3b9-6e097d76f705"
   },
   "outputs": [
    {
     "name": "stdout",
     "output_type": "stream",
     "text": [
      "0\n",
      "0\n",
      "5\n",
      "7\n"
     ]
    }
   ],
   "source": [
    "point = Point()\n",
    "print(point.x)\n",
    "print(point.y)\n",
    "      \n",
    "point.x = 5\n",
    "point.y = 7\n",
    "print(point.x)\n",
    "print(point.y)"
   ]
  },
  {
   "cell_type": "code",
   "execution_count": null,
   "metadata": {
    "id": "KIXJdl2C8yog"
   },
   "outputs": [],
   "source": []
  },
  {
   "cell_type": "code",
   "execution_count": null,
   "metadata": {
    "id": "rRWr-eZo8yog"
   },
   "outputs": [],
   "source": [
    "# another example\n",
    "class Point:\n",
    "    # class attribute\n",
    "    x = 0\n",
    "    y = 0\n",
    "    \n",
    "    def __init__(self, xi, yi):\n",
    "        Point.x = xi\n",
    "        Point.y = yi"
   ]
  },
  {
   "cell_type": "code",
   "execution_count": null,
   "metadata": {
    "id": "BNNZCnwK8yoh",
    "outputId": "f737354f-4fd8-447c-acf5-bfcae515f820"
   },
   "outputs": [
    {
     "name": "stdout",
     "output_type": "stream",
     "text": [
      "4\n",
      "5\n"
     ]
    }
   ],
   "source": [
    "point = Point(4, 5)\n",
    "print(point.x)\n",
    "print(point.y)"
   ]
  },
  {
   "cell_type": "code",
   "execution_count": null,
   "metadata": {
    "id": "PRaPsrQ-8yoh"
   },
   "outputs": [],
   "source": []
  },
  {
   "cell_type": "code",
   "execution_count": null,
   "metadata": {
    "id": "UaTjuLN48yoh"
   },
   "outputs": [],
   "source": [
    "class Point:\n",
    "    # Instance attribute\n",
    "    def __init__(self, x, y):\n",
    "        self.x = x\n",
    "        self.y = y"
   ]
  },
  {
   "cell_type": "code",
   "execution_count": null,
   "metadata": {
    "id": "u3mm9ylm8yoi",
    "outputId": "09e6e26b-c506-43ad-ffb7-608066c4506f"
   },
   "outputs": [
    {
     "name": "stdout",
     "output_type": "stream",
     "text": [
      "4\n",
      "5\n"
     ]
    }
   ],
   "source": [
    "point = Point(4, 5)\n",
    "print(point.x)\n",
    "print(point.y)"
   ]
  },
  {
   "cell_type": "code",
   "execution_count": null,
   "metadata": {
    "id": "3dopEV8a8yoi"
   },
   "outputs": [],
   "source": []
  },
  {
   "cell_type": "markdown",
   "metadata": {
    "id": "l0ynigIh8yoi"
   },
   "source": [
    "### constructor"
   ]
  },
  {
   "cell_type": "code",
   "execution_count": null,
   "metadata": {
    "id": "a-nbLMXl8yoj"
   },
   "outputs": [],
   "source": [
    "class Point:\n",
    "    def __init__(self, x, y):\n",
    "        self.x = x\n",
    "        self.y = y\n",
    "        \n",
    "    def sum(self):\n",
    "        return self.x + self.y\n",
    "    \n",
    "    def __call__(self, value):\n",
    "        return self.x*self.y + value"
   ]
  },
  {
   "cell_type": "code",
   "execution_count": null,
   "metadata": {
    "id": "SmhDML128yoj",
    "outputId": "606a4cdc-9b5f-41de-c08b-7840cf028763"
   },
   "outputs": [
    {
     "name": "stdout",
     "output_type": "stream",
     "text": [
      "4\n",
      "5\n"
     ]
    }
   ],
   "source": [
    "point = Point(4, 5)\n",
    "print(point.x)\n",
    "print(point.y)"
   ]
  },
  {
   "cell_type": "code",
   "execution_count": null,
   "metadata": {
    "id": "O4jz3ANP8yoj"
   },
   "outputs": [],
   "source": []
  },
  {
   "cell_type": "markdown",
   "metadata": {
    "id": "EA9xt1TP8yoj"
   },
   "source": [
    "### methods"
   ]
  },
  {
   "cell_type": "code",
   "execution_count": null,
   "metadata": {
    "id": "fb7WX5xt8yok"
   },
   "outputs": [],
   "source": [
    "class Point:\n",
    "    def __init__(self, x, y):\n",
    "        self.x = x\n",
    "        self.y = y\n",
    "        \n",
    "    def sum(self):\n",
    "        return self.x + self.y\n",
    "    \n",
    "    def __call__(self, value):\n",
    "        return self.x*self.y + value"
   ]
  },
  {
   "cell_type": "code",
   "execution_count": null,
   "metadata": {
    "id": "6tBneHW48yok"
   },
   "outputs": [],
   "source": [
    "class Point:\n",
    "    def __init__(self, x, y):\n",
    "        self.x = x\n",
    "        self.y = y\n",
    "        \n",
    "    def sum(self):\n",
    "        return self.x + self.y\n",
    "    \n",
    "    def call(self, value):\n",
    "        return self.x*self.y + value"
   ]
  },
  {
   "cell_type": "code",
   "execution_count": null,
   "metadata": {
    "id": "Gbd3BTc88yok",
    "outputId": "8208d45a-3247-49b4-89f3-cc9fb526548a"
   },
   "outputs": [
    {
     "name": "stdout",
     "output_type": "stream",
     "text": [
      "9\n"
     ]
    },
    {
     "ename": "TypeError",
     "evalue": "'Point' object is not callable",
     "output_type": "error",
     "traceback": [
      "\u001b[1;31m---------------------------------------------------------------------------\u001b[0m",
      "\u001b[1;31mTypeError\u001b[0m                                 Traceback (most recent call last)",
      "Input \u001b[1;32mIn [4]\u001b[0m, in \u001b[0;36m<cell line: 3>\u001b[1;34m()\u001b[0m\n\u001b[0;32m      1\u001b[0m point \u001b[38;5;241m=\u001b[39m Point(\u001b[38;5;241m4\u001b[39m, \u001b[38;5;241m5\u001b[39m)\n\u001b[0;32m      2\u001b[0m \u001b[38;5;28mprint\u001b[39m(point\u001b[38;5;241m.\u001b[39msum())\n\u001b[1;32m----> 3\u001b[0m \u001b[38;5;28mprint\u001b[39m(\u001b[43mpoint\u001b[49m\u001b[43m(\u001b[49m\u001b[38;5;241;43m9\u001b[39;49m\u001b[43m)\u001b[49m)\n",
      "\u001b[1;31mTypeError\u001b[0m: 'Point' object is not callable"
     ]
    }
   ],
   "source": [
    "point = Point(4, 5)\n",
    "print(point.sum())\n",
    "print(point(9))"
   ]
  },
  {
   "cell_type": "code",
   "execution_count": null,
   "metadata": {
    "id": "lA7HXM9I8yok"
   },
   "outputs": [],
   "source": []
  },
  {
   "cell_type": "code",
   "execution_count": null,
   "metadata": {
    "id": "7uYojBnq8yok",
    "outputId": "6153e405-57b4-49e2-ca9a-0671d117d954"
   },
   "outputs": [
    {
     "name": "stdout",
     "output_type": "stream",
     "text": [
      "Square area is 25\n"
     ]
    }
   ],
   "source": [
    "class Square:\n",
    "    def __init__(self, side):\n",
    "        self.side = side\n",
    "        \n",
    "    def computeArea(self):\n",
    "        return self.side*self.side\n",
    "    \n",
    "# test sample: side=5 -> 25\n",
    "square = Square(5)\n",
    "area = square.computeArea()\n",
    "print(f'Square area is {area}')"
   ]
  },
  {
   "cell_type": "code",
   "execution_count": null,
   "metadata": {
    "id": "5gpnULRm8yol"
   },
   "outputs": [],
   "source": []
  },
  {
   "cell_type": "markdown",
   "metadata": {
    "id": "QxMXbEEN8yol"
   },
   "source": [
    "### Access modifier"
   ]
  },
  {
   "cell_type": "code",
   "execution_count": null,
   "metadata": {
    "id": "8FhRQ1TW8yol",
    "outputId": "b1753811-eeea-48dd-e44d-626a27f21255"
   },
   "outputs": [
    {
     "name": "stdout",
     "output_type": "stream",
     "text": [
      "Calico\n",
      "Black, white, and brown\n",
      "2\n"
     ]
    }
   ],
   "source": [
    "#    Public Member: Accessible anywhere from otside oclass.\n",
    "#   Private Member: Accessible within the class\n",
    "# Protected Member: Accessible within the class and its sub-classes\n",
    "\n",
    "class Cat:\n",
    "    def __init__(self, name, color, age):\n",
    "        self.name = name\n",
    "        self.color = color\n",
    "        self.age = age \n",
    "        \n",
    "# test\n",
    "cat = Cat('Calico', 'Black, white, and brown', 2)\n",
    "print(cat.name)\n",
    "print(cat.color)\n",
    "print(cat.age)"
   ]
  },
  {
   "cell_type": "code",
   "execution_count": null,
   "metadata": {
    "id": "aqKLreh-8yol"
   },
   "outputs": [],
   "source": []
  },
  {
   "cell_type": "code",
   "execution_count": null,
   "metadata": {
    "id": "tOTnTndg8yol",
    "outputId": "d7a0ff76-7ead-4909-9a36-3c2bfcfa8019"
   },
   "outputs": [
    {
     "name": "stdout",
     "output_type": "stream",
     "text": [
      "Calico\n",
      "Black, white, and brown\n"
     ]
    },
    {
     "ename": "AttributeError",
     "evalue": "'Cat' object has no attribute '__age'",
     "output_type": "error",
     "traceback": [
      "\u001b[1;31m---------------------------------------------------------------------------\u001b[0m",
      "\u001b[1;31mAttributeError\u001b[0m                            Traceback (most recent call last)",
      "Input \u001b[1;32mIn [8]\u001b[0m, in \u001b[0;36m<cell line: 11>\u001b[1;34m()\u001b[0m\n\u001b[0;32m      9\u001b[0m \u001b[38;5;28mprint\u001b[39m(cat\u001b[38;5;241m.\u001b[39mname)\n\u001b[0;32m     10\u001b[0m \u001b[38;5;28mprint\u001b[39m(cat\u001b[38;5;241m.\u001b[39mcolor)\n\u001b[1;32m---> 11\u001b[0m \u001b[38;5;28mprint\u001b[39m(\u001b[43mcat\u001b[49m\u001b[38;5;241;43m.\u001b[39;49m\u001b[43m__age\u001b[49m)\n",
      "\u001b[1;31mAttributeError\u001b[0m: 'Cat' object has no attribute '__age'"
     ]
    }
   ],
   "source": [
    "# private attribute\n",
    "class Cat:\n",
    "    def __init__(self, name, color, age):\n",
    "        self.name = name\n",
    "        self.color = color\n",
    "        self.__age = age # private\n",
    "        \n",
    "# test\n",
    "cat = Cat('Calico', 'Black, white, and brown', 2)\n",
    "print(cat.name)\n",
    "print(cat.color)\n",
    "print(cat.__age)"
   ]
  },
  {
   "cell_type": "code",
   "execution_count": null,
   "metadata": {
    "id": "1ti8mcbs8yom"
   },
   "outputs": [],
   "source": []
  },
  {
   "cell_type": "code",
   "execution_count": null,
   "metadata": {
    "id": "zw8t53mN8yom",
    "outputId": "32e32938-88fe-4997-9cbf-05bd3ae56d89"
   },
   "outputs": [
    {
     "name": "stdout",
     "output_type": "stream",
     "text": [
      "Calico\n",
      "Black, white, and brown\n",
      "2\n"
     ]
    }
   ],
   "source": [
    "# private attribute\n",
    "\n",
    "class Cat:\n",
    "    def __init__(self, name, color, age):\n",
    "        self.name = name\n",
    "        self.color = color\n",
    "        self.__age = age\n",
    "        \n",
    "    def getAge(self):\n",
    "        return self.__age\n",
    "        \n",
    "# test\n",
    "cat = Cat('Calico', 'Black, white, and brown', 2)\n",
    "print(cat.name)\n",
    "print(cat.color)\n",
    "print(cat.getAge())"
   ]
  },
  {
   "cell_type": "code",
   "execution_count": null,
   "metadata": {
    "id": "g4FKumWh8yom"
   },
   "outputs": [],
   "source": []
  },
  {
   "cell_type": "code",
   "execution_count": null,
   "metadata": {
    "id": "ajJGNvsl8yom",
    "outputId": "efc5606d-af55-475b-a50a-493e5cb1a59a"
   },
   "outputs": [
    {
     "name": "stdout",
     "output_type": "stream",
     "text": [
      "Calico\n",
      "Japanese Bobtail\n"
     ]
    }
   ],
   "source": [
    "class Cat:\n",
    "    def __init__(self, name):\n",
    "        self.name = name\n",
    "                \n",
    "# test\n",
    "cat = Cat('Calico')\n",
    "print(cat.name)\n",
    "\n",
    "cat.name = 'Japanese Bobtail'\n",
    "print(cat.name)"
   ]
  },
  {
   "cell_type": "code",
   "execution_count": null,
   "metadata": {
    "id": "eU7EiZrG8yon",
    "outputId": "df9c26ba-55cf-4950-e1b6-71fb666d12b0"
   },
   "outputs": [
    {
     "name": "stdout",
     "output_type": "stream",
     "text": [
      "Calico\n",
      "Japanese Bobtail\n"
     ]
    }
   ],
   "source": [
    "# step 1\n",
    "\n",
    "class Cat:\n",
    "    def __init__(self, name):\n",
    "        self.name = name\n",
    "        \n",
    "    def getName(self):\n",
    "        return self.name\n",
    "    \n",
    "    def setName(self, name):\n",
    "        self.name = name\n",
    "        \n",
    "# test\n",
    "cat = Cat('Calico')\n",
    "print(cat.getName())\n",
    "\n",
    "cat.setName('Japanese Bobtail')\n",
    "print(cat.getName())"
   ]
  },
  {
   "cell_type": "code",
   "execution_count": null,
   "metadata": {
    "id": "YkrbsCuE8yon",
    "outputId": "224d7c44-a8e8-4ca6-c2c8-b557ada69f35"
   },
   "outputs": [
    {
     "name": "stdout",
     "output_type": "stream",
     "text": [
      "Calico\n",
      "Japanese Bobtail\n"
     ]
    }
   ],
   "source": [
    "class Cat:\n",
    "    def __init__(self, name):\n",
    "        self.__name = name\n",
    "        \n",
    "    def getName(self):\n",
    "        return self.__name\n",
    "    \n",
    "    def setName(self, name):\n",
    "        self.__name = name\n",
    "        \n",
    "# test\n",
    "cat = Cat('Calico')\n",
    "print(cat.getName())\n",
    "\n",
    "cat.setName('Japanese Bobtail')\n",
    "print(cat.getName())"
   ]
  },
  {
   "cell_type": "code",
   "execution_count": null,
   "metadata": {
    "id": "jZKWtaIx8yon",
    "outputId": "3919fba1-29b9-4c7d-d04a-5085a68d269d"
   },
   "outputs": [
    {
     "ename": "AttributeError",
     "evalue": "'Cat' object has no attribute '__name'",
     "output_type": "error",
     "traceback": [
      "\u001b[1;31m---------------------------------------------------------------------------\u001b[0m",
      "\u001b[1;31mAttributeError\u001b[0m                            Traceback (most recent call last)",
      "Input \u001b[1;32mIn [3]\u001b[0m, in \u001b[0;36m<cell line: 1>\u001b[1;34m()\u001b[0m\n\u001b[1;32m----> 1\u001b[0m \u001b[38;5;28mprint\u001b[39m(\u001b[43mcat\u001b[49m\u001b[38;5;241;43m.\u001b[39;49m\u001b[43m__name\u001b[49m)\n",
      "\u001b[1;31mAttributeError\u001b[0m: 'Cat' object has no attribute '__name'"
     ]
    }
   ],
   "source": [
    "print(cat.__name)"
   ]
  },
  {
   "cell_type": "code",
   "execution_count": null,
   "metadata": {
    "id": "v_YiBV2u8yon"
   },
   "outputs": [],
   "source": []
  },
  {
   "cell_type": "code",
   "execution_count": null,
   "metadata": {
    "id": "v4ly3pC98yon",
    "outputId": "e8812cc2-8d5e-43ee-9306-9dbe4e963df7"
   },
   "outputs": [
    {
     "name": "stdout",
     "output_type": "stream",
     "text": [
      "Name: Jessa 14\n",
      "Name: Jessa 16\n"
     ]
    }
   ],
   "source": [
    "class Student:\n",
    "    def __init__(self, name, age):\n",
    "        # private member\n",
    "        self.name = name\n",
    "        self.__age = age\n",
    "\n",
    "    # getter method\n",
    "    def get_age(self):\n",
    "        return self.__age\n",
    "\n",
    "    # setter method\n",
    "    def set_age(self, age):\n",
    "        self.__age = age\n",
    "\n",
    "stud = Student('Jessa', 14)\n",
    "\n",
    "# retrieving age using getter\n",
    "print('Name:', stud.name, stud.get_age())\n",
    "\n",
    "# changing age using setter\n",
    "stud.set_age(16)\n",
    "\n",
    "# retrieving age using getter\n",
    "print('Name:', stud.name, stud.get_age())"
   ]
  },
  {
   "cell_type": "code",
   "execution_count": null,
   "metadata": {
    "id": "GfMs2oif8yoo"
   },
   "outputs": [],
   "source": []
  },
  {
   "cell_type": "markdown",
   "metadata": {
    "id": "x7xhMag48yoo"
   },
   "source": [
    "## Using class as a data type"
   ]
  },
  {
   "cell_type": "code",
   "execution_count": null,
   "metadata": {
    "id": "8wJhyihy8yoo"
   },
   "outputs": [],
   "source": []
  },
  {
   "cell_type": "code",
   "execution_count": null,
   "metadata": {
    "id": "R7t3_kdX8yoo"
   },
   "outputs": [],
   "source": [
    "class Date:\n",
    "    def __init__(self, day, month, year):\n",
    "        self.__day = day\n",
    "        self.__month = month\n",
    "        self.__year = year\n",
    "        \n",
    "    def getDay(self):\n",
    "        return self.__day\n",
    "    \n",
    "    def getMonth(self):\n",
    "        return self.__month\n",
    "    \n",
    "    def getYear(self):\n",
    "        return self.__year"
   ]
  },
  {
   "cell_type": "code",
   "execution_count": null,
   "metadata": {
    "id": "_vhI8YRC8yoo"
   },
   "outputs": [],
   "source": [
    "class Person:\n",
    "    def __init__(self, name, dateOfBirth):\n",
    "        self.__name = name\n",
    "        self.__dateOfBirth = dateOfBirth\n",
    "        \n",
    "    def describe(self):\n",
    "        # print name\n",
    "        print(self.__name)\n",
    "        \n",
    "        # print date\n",
    "        day = self.__dateOfBirth.getDay()\n",
    "        month = self.__dateOfBirth.getMonth()\n",
    "        year = self.__dateOfBirth.getYear()\n",
    "        print(f'{day}/{month}/{year}')"
   ]
  },
  {
   "cell_type": "code",
   "execution_count": null,
   "metadata": {
    "id": "NZpPFycz8yoo",
    "outputId": "49c23dc0-e8db-473a-c768-6dc4c2beeeb7"
   },
   "outputs": [
    {
     "name": "stdout",
     "output_type": "stream",
     "text": [
      "Peter\n",
      "10/1/2000\n"
     ]
    }
   ],
   "source": [
    "date = Date(10, 1, 2000)\n",
    "peter = Person('Peter', date)\n",
    "peter.describe()"
   ]
  },
  {
   "cell_type": "code",
   "execution_count": null,
   "metadata": {
    "id": "t9OLvsvX8yoo"
   },
   "outputs": [],
   "source": []
  },
  {
   "cell_type": "code",
   "execution_count": null,
   "metadata": {
    "id": "90noe4ZV8yop"
   },
   "outputs": [],
   "source": [
    "# aggregation"
   ]
  },
  {
   "cell_type": "code",
   "execution_count": null,
   "metadata": {
    "id": "j1QDuCTf8yop"
   },
   "outputs": [],
   "source": [
    "class Date:\n",
    "    def __init__(self, day, month, year):\n",
    "        self.__day = day\n",
    "        self.__month = month\n",
    "        self.__year = year\n",
    "        \n",
    "    def getDay(self):\n",
    "        return self.__day\n",
    "    \n",
    "    def getMonth(self):\n",
    "        return self.__month\n",
    "    \n",
    "    def getYear(self):\n",
    "        return self.__year\n",
    "    \n",
    "    def describe(self):\n",
    "        print(f'{self.__day}/{self.__month}/{self.__year}')"
   ]
  },
  {
   "cell_type": "code",
   "execution_count": null,
   "metadata": {
    "id": "wpE7q_L08yop"
   },
   "outputs": [],
   "source": [
    "class Person:\n",
    "    def __init__(self, name, dateOfBirth):\n",
    "        self.__name = name\n",
    "        self.__dateOfBirth = dateOfBirth\n",
    "        \n",
    "    def describe(self):\n",
    "        # print name\n",
    "        print(self.__name)\n",
    "        \n",
    "        # print date\n",
    "        self.__dateOfBirth.describe()"
   ]
  },
  {
   "cell_type": "code",
   "execution_count": null,
   "metadata": {
    "id": "ufvmwrqq8yop",
    "outputId": "0a35493f-6c4f-40cb-e2c1-833761c7c93e"
   },
   "outputs": [
    {
     "name": "stdout",
     "output_type": "stream",
     "text": [
      "Peter\n",
      "10/1/2000\n"
     ]
    }
   ],
   "source": [
    "date = Date(10, 1, 2000)\n",
    "peter = Person('Peter', date)\n",
    "peter.describe()"
   ]
  },
  {
   "cell_type": "code",
   "execution_count": null,
   "metadata": {
    "id": "hiQozain8yop"
   },
   "outputs": [],
   "source": []
  },
  {
   "cell_type": "code",
   "execution_count": null,
   "metadata": {
    "id": "tnEgyUrQ8yop"
   },
   "outputs": [],
   "source": []
  },
  {
   "cell_type": "code",
   "execution_count": null,
   "metadata": {
    "id": "YQkeZKBx8yop"
   },
   "outputs": [],
   "source": []
  },
  {
   "cell_type": "markdown",
   "metadata": {
    "id": "Ir2ILWyt8yop"
   },
   "source": [
    "## Inheritance"
   ]
  },
  {
   "cell_type": "code",
   "execution_count": null,
   "metadata": {
    "id": "Llo6nBEu8yoq",
    "outputId": "23b887d0-2697-4dd4-c32e-50a7013ec20d"
   },
   "outputs": [
    {
     "name": "stdout",
     "output_type": "stream",
     "text": [
      "Peter\n",
      "Name: Peter\n",
      "Salary: 200000\n"
     ]
    }
   ],
   "source": [
    "# parent class\n",
    "class Person(object):\n",
    "    # __init__ is known as the constructor\n",
    "    def __init__(self, name):\n",
    "        self.name = name\n",
    "\n",
    "    def display(self):\n",
    "        print(self.name)\n",
    "        \n",
    "    def details(self):\n",
    "        print(f'Name: {self.name}')\n",
    "\n",
    "# child class\n",
    "class Employee(Person):\n",
    "    def __init__(self, name, salary):\n",
    "        self.salary = salary\n",
    "\n",
    "        # invoking the __init__ of the parent class\n",
    "        Person.__init__(self, name)\n",
    "\n",
    "    def details(self):\n",
    "        print(f'Name: {self.name}')\n",
    "        print(f'Salary: {self.salary}')\n",
    "\n",
    "# test\n",
    "peter = Employee('Peter', 200000)\n",
    "peter.display()\n",
    "peter.details()"
   ]
  },
  {
   "cell_type": "code",
   "execution_count": null,
   "metadata": {
    "id": "wZGL7wJ38yoq"
   },
   "outputs": [],
   "source": []
  },
  {
   "cell_type": "code",
   "execution_count": null,
   "metadata": {
    "id": "qsW6j77J8yoq",
    "outputId": "285e02c5-da1e-41ac-bfdd-963be900e552"
   },
   "outputs": [
    {
     "name": "stdout",
     "output_type": "stream",
     "text": [
      "Peter\n",
      "Name: Peter\n",
      "Salary: 200000\n"
     ]
    }
   ],
   "source": [
    "# protected attribute\n",
    "\n",
    "# parent class\n",
    "class Person(object):\n",
    "    # __init__ is known as the constructor\n",
    "    def __init__(self, name):\n",
    "        self._name = name\n",
    "\n",
    "    def display(self):\n",
    "        print(self._name)\n",
    "        \n",
    "    def details(self):\n",
    "        print(f'Name: {self._name}')\n",
    "\n",
    "# child class\n",
    "class Employee(Person):\n",
    "    def __init__(self, name, salary):\n",
    "        self.salary = salary\n",
    "\n",
    "        # invoking the __init__ of the parent class\n",
    "        Person.__init__(self, name)\n",
    "\n",
    "    def details(self):\n",
    "        print(f'Name: {self._name}')\n",
    "        print(f'Salary: {self.salary}')\n",
    "\n",
    "# test\n",
    "peter = Employee('Peter', 200000)\n",
    "peter.display()\n",
    "peter.details()"
   ]
  },
  {
   "cell_type": "code",
   "execution_count": null,
   "metadata": {
    "id": "rRnVtIf_8yoq"
   },
   "outputs": [],
   "source": []
  },
  {
   "cell_type": "code",
   "execution_count": null,
   "metadata": {
    "id": "16yVPDeK8yoq",
    "outputId": "782bc313-a8a0-4796-82b9-9a2b42347b6b"
   },
   "outputs": [
    {
     "name": "stdout",
     "output_type": "stream",
     "text": [
      "Name: Calico\n"
     ]
    }
   ],
   "source": [
    "class Animal:\n",
    "    def __init__(self, name):\n",
    "        self._name = name\n",
    "        \n",
    "    def setName(self, name):\n",
    "        self._name = name\n",
    "        \n",
    "    def describe(self):\n",
    "        print(f'Name: {self._name}')\n",
    "        \n",
    "class Cat(Animal):\n",
    "    def __init__(self, name):\n",
    "        Animal.__init__(self, name)\n",
    "\n",
    "cat = Cat('Calico')\n",
    "cat.describe()"
   ]
  },
  {
   "cell_type": "code",
   "execution_count": null,
   "metadata": {
    "id": "MzJORVOa8yoq"
   },
   "outputs": [],
   "source": []
  },
  {
   "cell_type": "code",
   "execution_count": null,
   "metadata": {
    "id": "IFVDlQev8yor"
   },
   "outputs": [],
   "source": []
  },
  {
   "cell_type": "code",
   "execution_count": null,
   "metadata": {
    "id": "GXLubK_-8yor"
   },
   "outputs": [],
   "source": []
  },
  {
   "cell_type": "code",
   "execution_count": null,
   "metadata": {
    "id": "h5Av-8OZ8yor"
   },
   "outputs": [],
   "source": []
  },
  {
   "cell_type": "code",
   "execution_count": null,
   "metadata": {
    "id": "pvmx9ZFI8yor"
   },
   "outputs": [],
   "source": []
  }
 ],
 "metadata": {
  "colab": {
   "name": "Classes.ipynb",
   "provenance": []
  },
  "kernelspec": {
   "display_name": "Python 3 (ipykernel)",
   "language": "python",
   "name": "python3"
  },
  "language_info": {
   "codemirror_mode": {
    "name": "ipython",
    "version": 3
   },
   "file_extension": ".py",
   "mimetype": "text/x-python",
   "name": "python",
   "nbconvert_exporter": "python",
   "pygments_lexer": "ipython3",
   "version": "3.12.0rc1"
  }
 },
 "nbformat": 4,
 "nbformat_minor": 4
}
