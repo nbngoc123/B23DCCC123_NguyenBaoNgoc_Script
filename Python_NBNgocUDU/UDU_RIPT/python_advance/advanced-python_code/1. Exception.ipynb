{
 "cells": [
  {
   "cell_type": "code",
   "execution_count": null,
   "metadata": {},
   "outputs": [],
   "source": [
    "# exception\n",
    "\n",
    "number1 = 5\n",
    "number2 = 0\n",
    "\n",
    "result = number1 / number2\n",
    "print(result)"
   ]
  },
  {
   "cell_type": "code",
   "execution_count": null,
   "metadata": {},
   "outputs": [],
   "source": []
  },
  {
   "cell_type": "code",
   "execution_count": null,
   "metadata": {},
   "outputs": [],
   "source": [
    "# exception\n",
    "\n",
    "value = 'ai'\n",
    "number = int(value)\n",
    "print(number)"
   ]
  },
  {
   "cell_type": "code",
   "execution_count": null,
   "metadata": {},
   "outputs": [],
   "source": [
    "# exception\n",
    "\n",
    "try:\n",
    "    value = input()\n",
    "    number = int(value)\n",
    "    print(f'The number is {number}')\n",
    "except:\n",
    "    print('Something wrong.')\n",
    "    \n",
    "print('Remaining code')"
   ]
  },
  {
   "cell_type": "code",
   "execution_count": null,
   "metadata": {},
   "outputs": [],
   "source": []
  },
  {
   "cell_type": "code",
   "execution_count": null,
   "metadata": {},
   "outputs": [],
   "source": [
    "# exception\n",
    "\n",
    "try:\n",
    "    value = input()\n",
    "    number = int(value)\n",
    "    print(f'The number is {number}')\n",
    "except:\n",
    "    print('Something wrong.')\n",
    "finally:\n",
    "    print('Do something finally')"
   ]
  },
  {
   "cell_type": "code",
   "execution_count": null,
   "metadata": {},
   "outputs": [],
   "source": []
  },
  {
   "cell_type": "code",
   "execution_count": 5,
   "metadata": {},
   "outputs": [
    {
     "name": "stdout",
     "output_type": "stream",
     "text": [
      "5\n",
      "0\n",
      "ZeroDivisionError!!\n",
      "Do something in finally\n"
     ]
    }
   ],
   "source": [
    "try:    \n",
    "    a = int(input())\n",
    "    b = int(input())\n",
    "    print(a/b)\n",
    "except ValueError:\n",
    "    print('ValueError!!')\n",
    "except ZeroDivisionError:\n",
    "    print('ZeroDivisionError!!')\n",
    "finally:\n",
    "    print('Do something in finally')"
   ]
  },
  {
   "cell_type": "code",
   "execution_count": null,
   "metadata": {},
   "outputs": [],
   "source": []
  },
  {
   "cell_type": "code",
   "execution_count": null,
   "metadata": {},
   "outputs": [],
   "source": [
    "# exception\n",
    "\n",
    "try:\n",
    "    value = input()\n",
    "    number = int(value)\n",
    "    print(f'The number is {number}')\n",
    "except ZeroDivisionError:\n",
    "    print('Something wrong.')\n",
    "finally:\n",
    "    print('Do something in finally')"
   ]
  },
  {
   "cell_type": "code",
   "execution_count": null,
   "metadata": {},
   "outputs": [],
   "source": []
  },
  {
   "cell_type": "markdown",
   "metadata": {},
   "source": [
    "## Examples"
   ]
  },
  {
   "cell_type": "code",
   "execution_count": null,
   "metadata": {},
   "outputs": [],
   "source": [
    "# KeyError: Khi key không tìm thấy trong dictionary\n",
    "\n",
    "parameters = {'learning_rate': 0.1,\n",
    "              'optimizer': 'Adam',\n",
    "              'metric': 'Accuracy'}\n",
    "\n",
    "print(parameters['optimizer'])\n",
    "print(parameters['loss'])"
   ]
  },
  {
   "cell_type": "code",
   "execution_count": null,
   "metadata": {},
   "outputs": [],
   "source": []
  },
  {
   "cell_type": "code",
   "execution_count": null,
   "metadata": {},
   "outputs": [],
   "source": [
    "# IndexError: khi index không tìm thấy trong một sequence\n",
    "\n",
    "data = 'AI VIETNAM'\n",
    "print(data[20])"
   ]
  },
  {
   "cell_type": "code",
   "execution_count": null,
   "metadata": {},
   "outputs": [],
   "source": []
  },
  {
   "cell_type": "code",
   "execution_count": null,
   "metadata": {},
   "outputs": [],
   "source": [
    "# FileNotFoundError: Lỗi liên quan đến input/output\n",
    "# Ví dụ mở một file không tồn tại\n",
    "\n",
    "f = open('non-existing-file.txt', 'r' )"
   ]
  },
  {
   "cell_type": "code",
   "execution_count": null,
   "metadata": {},
   "outputs": [],
   "source": []
  },
  {
   "cell_type": "code",
   "execution_count": null,
   "metadata": {},
   "outputs": [],
   "source": [
    "# ZeroDivisionError: Lỗi chia cho 0\n",
    "\n",
    "a = 5\n",
    "b = 0\n",
    "print(a/b)"
   ]
  },
  {
   "cell_type": "code",
   "execution_count": null,
   "metadata": {},
   "outputs": [],
   "source": [
    "# OverflowError: Lỗi giá trị vượt qua \n",
    "# khả năng mô tả của biến\n",
    "\n",
    "import math\n",
    "\n",
    "value = math.exp(1000)\n",
    "print(value)"
   ]
  },
  {
   "cell_type": "code",
   "execution_count": null,
   "metadata": {},
   "outputs": [],
   "source": [
    "# NameError: Lỗi dùng một biến không tồn tại\n",
    "\n",
    "print(undefined_variable)"
   ]
  },
  {
   "cell_type": "code",
   "execution_count": null,
   "metadata": {},
   "outputs": [],
   "source": [
    "# ValueError: Lỗi khi user nhập vào \n",
    "# một giá trị không hợp lệ\n",
    "\n",
    "number = int(input('What is your age?'))\n",
    "print(number)"
   ]
  },
  {
   "cell_type": "code",
   "execution_count": null,
   "metadata": {},
   "outputs": [],
   "source": [
    "# SyntaxError: Lỗi sai cú pháp\n",
    "\n",
    "print(2~)"
   ]
  },
  {
   "cell_type": "code",
   "execution_count": null,
   "metadata": {},
   "outputs": [],
   "source": [
    "# IndentationError: Lỗi về indentation\n",
    "\n",
    "a = 5\n",
    " b = 7\n",
    "print(a+b)"
   ]
  },
  {
   "cell_type": "code",
   "execution_count": null,
   "metadata": {},
   "outputs": [],
   "source": [
    "# TypeErrors: Lỗi kết hợp các kiểu \n",
    "# dữ liệu không phù hợp\n",
    "\n",
    "print('AI VIETNAM' + 2022)"
   ]
  },
  {
   "cell_type": "code",
   "execution_count": null,
   "metadata": {},
   "outputs": [],
   "source": [
    "# StopIteration: Xảy ra khi tiếp tục gọi hàm next() \n",
    "# khi đã duyệt hết phần tử của một iterator\n",
    "\n",
    "data = ['AI', 'VIETNAM']\n",
    "\n",
    "iterator = iter(data)\n",
    "print(next(iterator))\n",
    "print(next(iterator))\n",
    "print(next(iterator))"
   ]
  },
  {
   "cell_type": "code",
   "execution_count": null,
   "metadata": {
    "scrolled": true
   },
   "outputs": [],
   "source": [
    "# PermissionError: Lỗi khi không có quyền truy cập vào folders/files\n",
    "\n",
    "f = open(r'C:\\Windows\\System32', 'r' )"
   ]
  },
  {
   "cell_type": "code",
   "execution_count": null,
   "metadata": {},
   "outputs": [],
   "source": []
  }
 ],
 "metadata": {
  "kernelspec": {
   "display_name": "Python 3 (ipykernel)",
   "language": "python",
   "name": "python3"
  },
  "language_info": {
   "codemirror_mode": {
    "name": "ipython",
    "version": 3
   },
   "file_extension": ".py",
   "mimetype": "text/x-python",
   "name": "python",
   "nbconvert_exporter": "python",
   "pygments_lexer": "ipython3",
   "version": "3.9.12"
  }
 },
 "nbformat": 4,
 "nbformat_minor": 2
}
