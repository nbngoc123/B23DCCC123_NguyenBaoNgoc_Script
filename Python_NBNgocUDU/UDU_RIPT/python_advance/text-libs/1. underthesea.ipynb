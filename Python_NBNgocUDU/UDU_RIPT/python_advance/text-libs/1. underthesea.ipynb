{
 "cells": [
  {
   "cell_type": "code",
   "execution_count": null,
   "id": "64324046",
   "metadata": {},
   "outputs": [],
   "source": [
    "!pip install underthesea"
   ]
  },
  {
   "cell_type": "code",
   "execution_count": null,
   "id": "0c7f833c",
   "metadata": {},
   "outputs": [],
   "source": []
  },
  {
   "cell_type": "markdown",
   "id": "1767d6c4",
   "metadata": {},
   "source": [
    "###  1. Gán nhãn từ loại (POS tagging)"
   ]
  },
  {
   "cell_type": "code",
   "execution_count": 1,
   "id": "fd155970",
   "metadata": {},
   "outputs": [
    {
     "data": {
      "text/plain": [
       "[('Học sinh', 'N'), ('đang', 'R'), ('học', 'V'), ('toán', 'N')]"
      ]
     },
     "execution_count": 1,
     "metadata": {},
     "output_type": "execute_result"
    }
   ],
   "source": [
    "from underthesea import pos_tag\n",
    "\n",
    "pos_tag('Học sinh đang học toán')"
   ]
  },
  {
   "cell_type": "code",
   "execution_count": 2,
   "id": "c08dbdc2",
   "metadata": {},
   "outputs": [
    {
     "data": {
      "text/plain": [
       "[('Alexa', 'Np'),\n",
       " ('có thể', 'R'),\n",
       " ('bắt chước', 'V'),\n",
       " ('giọng', 'N'),\n",
       " ('nói', 'V')]"
      ]
     },
     "execution_count": 2,
     "metadata": {},
     "output_type": "execute_result"
    }
   ],
   "source": [
    "from underthesea import pos_tag\n",
    "\n",
    "pos_tag(\"Alexa có thể bắt chước giọng nói\")"
   ]
  },
  {
   "cell_type": "code",
   "execution_count": null,
   "id": "b1088490",
   "metadata": {},
   "outputs": [],
   "source": []
  },
  {
   "cell_type": "markdown",
   "id": "85006307",
   "metadata": {},
   "source": [
    "### 2. Phân loại văn bản (Text classification)"
   ]
  },
  {
   "cell_type": "code",
   "execution_count": 3,
   "id": "fb2c5d5c",
   "metadata": {},
   "outputs": [
    {
     "data": {
      "text/plain": [
       "['kinh_doanh']"
      ]
     },
     "execution_count": 3,
     "metadata": {},
     "output_type": "execute_result"
    }
   ],
   "source": [
    "from underthesea import classify\n",
    "\n",
    "classify('giá cổ phiếu đang có nhiều biến động trong thời gian qua')"
   ]
  },
  {
   "cell_type": "code",
   "execution_count": 4,
   "id": "920f2cca",
   "metadata": {},
   "outputs": [
    {
     "data": {
      "text/plain": [
       "['the_thao']"
      ]
     },
     "execution_count": 4,
     "metadata": {},
     "output_type": "execute_result"
    }
   ],
   "source": [
    "from underthesea import classify\n",
    "\n",
    "classify('ĐKVĐ Champions League được cho là để mắt đến tiền đạo Tottenham Son Heung-min trong nỗ lực tăng cường cho hàng công')"
   ]
  },
  {
   "cell_type": "code",
   "execution_count": null,
   "id": "c5816633",
   "metadata": {},
   "outputs": [],
   "source": []
  },
  {
   "cell_type": "markdown",
   "id": "de723212",
   "metadata": {},
   "source": [
    "### 3. Phân tích cảm xúc (Sentiment Analysis)"
   ]
  },
  {
   "cell_type": "code",
   "execution_count": 5,
   "id": "8ce80b73",
   "metadata": {},
   "outputs": [
    {
     "data": {
      "text/plain": [
       "'negative'"
      ]
     },
     "execution_count": 5,
     "metadata": {},
     "output_type": "execute_result"
    }
   ],
   "source": [
    "from underthesea import sentiment\n",
    "\n",
    "sentiment('Sản phẩm mình đặt về không như quảng cáo')"
   ]
  },
  {
   "cell_type": "code",
   "execution_count": 6,
   "id": "946cd594",
   "metadata": {},
   "outputs": [
    {
     "data": {
      "text/plain": [
       "'positive'"
      ]
     },
     "execution_count": 6,
     "metadata": {},
     "output_type": "execute_result"
    }
   ],
   "source": [
    "from underthesea import sentiment\n",
    "\n",
    "sentiment('Giá cả rất hợp lý, sản phẩm thiết kế đẹp')"
   ]
  },
  {
   "cell_type": "code",
   "execution_count": null,
   "id": "3fa6b5cd",
   "metadata": {},
   "outputs": [],
   "source": []
  },
  {
   "cell_type": "markdown",
   "id": "653cf4a6",
   "metadata": {},
   "source": [
    "### 4. Sentence Segmentation"
   ]
  },
  {
   "cell_type": "code",
   "execution_count": 7,
   "id": "71821bb6",
   "metadata": {},
   "outputs": [
    {
     "data": {
      "text/plain": [
       "['Những đứa trẻ nghèo thế hệ tôi biết đọc biết viết, thành người bằng những cuốn giáo khoa đi mượn như thế.',\n",
       " 'Cũng có những đứa nhà nghèo quá, không mượn đâu được bộ sách cho tử tế, môn được môn không, càng học càng đúp, cuối cùng bỏ dở giữa chừng.']"
      ]
     },
     "execution_count": 7,
     "metadata": {},
     "output_type": "execute_result"
    }
   ],
   "source": [
    "from underthesea import sent_tokenize\n",
    "\n",
    "text = 'Những đứa trẻ nghèo thế hệ tôi biết đọc biết viết, thành người bằng những cuốn giáo khoa đi mượn như thế. Cũng có những đứa nhà nghèo quá, không mượn đâu được bộ sách cho tử tế, môn được môn không, càng học càng đúp, cuối cùng bỏ dở giữa chừng.'\n",
    "sent_tokenize(text)"
   ]
  },
  {
   "cell_type": "code",
   "execution_count": 8,
   "id": "2dd537b8",
   "metadata": {},
   "outputs": [
    {
     "data": {
      "text/plain": [
       "['Công trình của PGS Vân đã thay thế bạch kim trong pin nhiên liệu, giúp giảm giá thành mà pin có độ bền cao hơn.',\n",
       " 'Kết quả là chị đã tạo ra loại pin nhiên liệu có giá thành rẻ hơn loại thông thường 20%.',\n",
       " 'Trước kia một hệ thống pin nhiên liệu có giá khoảng 300 triệu đồng thì nay chỉ còn 240 triệu đồng.']"
      ]
     },
     "execution_count": 8,
     "metadata": {},
     "output_type": "execute_result"
    }
   ],
   "source": [
    "from underthesea import sent_tokenize\n",
    "\n",
    "text = 'Công trình của PGS Vân đã thay thế bạch kim trong pin nhiên liệu, giúp giảm giá thành mà pin có độ bền cao hơn. Kết quả là chị đã tạo ra loại pin nhiên liệu có giá thành rẻ hơn loại thông thường 20%. Trước kia một hệ thống pin nhiên liệu có giá khoảng 300 triệu đồng thì nay chỉ còn 240 triệu đồng.'\n",
    "sent_tokenize(text)"
   ]
  },
  {
   "cell_type": "code",
   "execution_count": null,
   "id": "abb035fa",
   "metadata": {},
   "outputs": [],
   "source": []
  },
  {
   "cell_type": "markdown",
   "id": "835f9113",
   "metadata": {},
   "source": [
    "### 5. Word Segmentation"
   ]
  },
  {
   "cell_type": "code",
   "execution_count": 9,
   "id": "6e5dabdd",
   "metadata": {},
   "outputs": [
    {
     "data": {
      "text/plain": [
       "['Công trình',\n",
       " 'của',\n",
       " 'PGS Vân',\n",
       " 'đã',\n",
       " 'thay thế',\n",
       " 'bạch kim',\n",
       " 'trong',\n",
       " 'pin',\n",
       " 'nhiên liệu',\n",
       " ',',\n",
       " 'giúp',\n",
       " 'giảm',\n",
       " 'giá thành',\n",
       " 'mà',\n",
       " 'pin',\n",
       " 'có',\n",
       " 'độ',\n",
       " 'bền',\n",
       " 'cao',\n",
       " 'hơn',\n",
       " '.']"
      ]
     },
     "execution_count": 9,
     "metadata": {},
     "output_type": "execute_result"
    }
   ],
   "source": [
    "from underthesea import word_tokenize\n",
    "sentence = 'Công trình của PGS Vân đã thay thế bạch kim trong pin nhiên liệu, giúp giảm giá thành mà pin có độ bền cao hơn.'\n",
    "word_tokenize(sentence)"
   ]
  },
  {
   "cell_type": "code",
   "execution_count": null,
   "id": "bc6fd4dc",
   "metadata": {},
   "outputs": [],
   "source": []
  },
  {
   "cell_type": "code",
   "execution_count": null,
   "id": "ebae4298",
   "metadata": {},
   "outputs": [],
   "source": []
  }
 ],
 "metadata": {
  "kernelspec": {
   "display_name": "Python 3 (ipykernel)",
   "language": "python",
   "name": "python3"
  },
  "language_info": {
   "codemirror_mode": {
    "name": "ipython",
    "version": 3
   },
   "file_extension": ".py",
   "mimetype": "text/x-python",
   "name": "python",
   "nbconvert_exporter": "python",
   "pygments_lexer": "ipython3",
   "version": "3.9.12"
  }
 },
 "nbformat": 4,
 "nbformat_minor": 5
}
