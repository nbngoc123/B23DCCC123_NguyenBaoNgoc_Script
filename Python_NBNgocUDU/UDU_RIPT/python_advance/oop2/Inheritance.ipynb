{
 "cells": [
  {
   "cell_type": "markdown",
   "id": "f67307b7",
   "metadata": {
    "id": "f67307b7"
   },
   "source": [
    "## Math problem"
   ]
  },
  {
   "cell_type": "code",
   "execution_count": null,
   "id": "d7721cac",
   "metadata": {
    "id": "d7721cac"
   },
   "outputs": [],
   "source": [
    "class Math1:\n",
    "    def isEven(self, number):\n",
    "        if number%2:\n",
    "            return False\n",
    "        else:\n",
    "            return True\n",
    "    \n",
    "    def factorial(self, number):\n",
    "        result = 1\n",
    "        \n",
    "        for i in range(1, number+1):\n",
    "            result = result*i\n",
    "            \n",
    "        return result"
   ]
  },
  {
   "cell_type": "code",
   "execution_count": null,
   "id": "fc3107ea",
   "metadata": {
    "id": "fc3107ea"
   },
   "outputs": [],
   "source": [
    "# test Math1\n",
    "math1 = Math1()\n",
    "\n",
    "# isEven() sample: number=5 -> False\n",
    "# isEven() sample: number=6 -> True\n",
    "print(math1.isEven(5))\n",
    "print(math1.isEven(6))\n",
    "\n",
    "# factorial() sample: number=4 -> 24\n",
    "# factorial() sample: number=5 -> 120\n",
    "print(math1.factorial(4))\n",
    "print(math1.factorial(5))"
   ]
  },
  {
   "cell_type": "code",
   "execution_count": null,
   "id": "2c456289",
   "metadata": {
    "id": "2c456289"
   },
   "outputs": [],
   "source": []
  },
  {
   "cell_type": "code",
   "execution_count": null,
   "id": "6adadeae",
   "metadata": {
    "id": "6adadeae"
   },
   "outputs": [],
   "source": []
  },
  {
   "cell_type": "code",
   "execution_count": null,
   "id": "ea6e784a",
   "metadata": {
    "id": "ea6e784a"
   },
   "outputs": [],
   "source": [
    "class Math2:\n",
    "    def isEven(self, number):\n",
    "        if number%2:\n",
    "            return False\n",
    "        else:\n",
    "            return True\n",
    "    \n",
    "    def factorial(self, number):\n",
    "        result = 1\n",
    "        \n",
    "        for i in range(1, number+1):\n",
    "            result = result*i\n",
    "            \n",
    "        return result\n",
    "    \n",
    "    def estimateEuler(self, number):\n",
    "        result = 1\n",
    "        \n",
    "        for i in range(1, number+1):\n",
    "            result = result + 1/self.factorial(i)\n",
    "            \n",
    "        return result"
   ]
  },
  {
   "cell_type": "code",
   "execution_count": null,
   "id": "7de93560",
   "metadata": {
    "id": "7de93560"
   },
   "outputs": [],
   "source": [
    "# test Math2\n",
    "math2 = Math2()\n",
    "\n",
    "# isEven() sample: number=5 -> False\n",
    "# isEven() sample: number=6 -> True\n",
    "print(math2.isEven(5))\n",
    "print(math2.isEven(6))\n",
    "\n",
    "# factorial() sample: number=4 -> 24\n",
    "# factorial() sample: number=5 -> 120\n",
    "print(math2.factorial(4))\n",
    "print(math2.factorial(5))\n",
    "\n",
    "# estimateEuler() sample: number=2 -> 2.5\n",
    "# estimateEuler() sample: number=8 -> 2.71\n",
    "print(math2.estimateEuler(2))\n",
    "print(math2.estimateEuler(8))"
   ]
  },
  {
   "cell_type": "code",
   "execution_count": null,
   "id": "3f0f4c96",
   "metadata": {
    "id": "3f0f4c96"
   },
   "outputs": [],
   "source": []
  },
  {
   "cell_type": "code",
   "execution_count": null,
   "id": "d0fb932a",
   "metadata": {
    "id": "d0fb932a"
   },
   "outputs": [],
   "source": [
    "# using inheritance"
   ]
  },
  {
   "cell_type": "code",
   "execution_count": null,
   "id": "27b12983",
   "metadata": {
    "id": "27b12983"
   },
   "outputs": [],
   "source": [
    "class Math1:\n",
    "    def isEven(self, number):\n",
    "        if number%2:\n",
    "            return False\n",
    "        else:\n",
    "            return True\n",
    "    \n",
    "    def factorial(self, number):\n",
    "        result = 1\n",
    "        \n",
    "        for i in range(1, number+1):\n",
    "            result = result*i\n",
    "            \n",
    "        return result"
   ]
  },
  {
   "cell_type": "code",
   "execution_count": null,
   "id": "df54ff69",
   "metadata": {
    "id": "df54ff69"
   },
   "outputs": [],
   "source": [
    "class Math2(Math1):    \n",
    "    def estimateEuler(self, number):\n",
    "        result = 1\n",
    "        \n",
    "        for i in range(1, number+1):\n",
    "            result = result + 1/self.factorial(i)\n",
    "            \n",
    "        return result"
   ]
  },
  {
   "cell_type": "code",
   "execution_count": null,
   "id": "e015ff71",
   "metadata": {
    "id": "e015ff71"
   },
   "outputs": [],
   "source": [
    "# test Math2\n",
    "math2 = Math2()\n",
    "\n",
    "# isEven() sample: number=5 -> False\n",
    "# isEven() sample: number=6 -> True\n",
    "print(math2.isEven(5))\n",
    "print(math2.isEven(6))\n",
    "\n",
    "# factorial() sample: number=4 -> 24\n",
    "# factorial() sample: number=5 -> 120\n",
    "print(math2.factorial(4))\n",
    "print(math2.factorial(5))\n",
    "\n",
    "# estimateEuler() sample: number=2 -> 2.5\n",
    "# estimateEuler() sample: number=8 -> 2.71\n",
    "print(math2.estimateEuler(2))\n",
    "print(math2.estimateEuler(8))"
   ]
  },
  {
   "cell_type": "code",
   "execution_count": null,
   "id": "09437d30",
   "metadata": {
    "id": "09437d30"
   },
   "outputs": [],
   "source": []
  },
  {
   "cell_type": "code",
   "execution_count": null,
   "id": "869dc9ff",
   "metadata": {
    "id": "869dc9ff"
   },
   "outputs": [],
   "source": []
  },
  {
   "cell_type": "code",
   "execution_count": null,
   "id": "f4263a5e",
   "metadata": {
    "id": "f4263a5e"
   },
   "outputs": [],
   "source": [
    "class Math1:\n",
    "    def isEven(self, number):\n",
    "        if number%2:\n",
    "            return False\n",
    "        else:\n",
    "            return True\n",
    "    \n",
    "    def factorial(self, number):\n",
    "        result = 1\n",
    "        \n",
    "        for i in range(1, number+1):\n",
    "            result = result*i\n",
    "            \n",
    "        return result"
   ]
  },
  {
   "cell_type": "code",
   "execution_count": null,
   "id": "e15ba00b",
   "metadata": {
    "id": "e15ba00b"
   },
   "outputs": [],
   "source": [
    "class Math2(Math1):    \n",
    "    def estimateEuler(self, number):\n",
    "        result = 1\n",
    "        \n",
    "        for i in range(1, number+1):\n",
    "            result = result + 1/super().factorial(i)\n",
    "            \n",
    "        return result"
   ]
  },
  {
   "cell_type": "code",
   "execution_count": null,
   "id": "5daf803b",
   "metadata": {
    "id": "5daf803b",
    "outputId": "36a9e60f-5050-4e6d-c408-0c97eb44bf8b"
   },
   "outputs": [
    {
     "name": "stdout",
     "output_type": "stream",
     "text": [
      "False\n",
      "True\n",
      "24\n",
      "120\n",
      "2.5\n",
      "2.71827876984127\n"
     ]
    }
   ],
   "source": [
    "# test Math2\n",
    "math2 = Math2()\n",
    "\n",
    "# isEven() sample: number=5 -> False\n",
    "# isEven() sample: number=6 -> True\n",
    "print(math2.isEven(5))\n",
    "print(math2.isEven(6))\n",
    "\n",
    "# factorial() sample: number=4 -> 24\n",
    "# factorial() sample: number=5 -> 120\n",
    "print(math2.factorial(4))\n",
    "print(math2.factorial(5))\n",
    "\n",
    "# estimateEuler() sample: number=2 -> 2.5\n",
    "# estimateEuler() sample: number=8 -> 2.71\n",
    "print(math2.estimateEuler(2))\n",
    "print(math2.estimateEuler(8))"
   ]
  },
  {
   "cell_type": "code",
   "execution_count": null,
   "id": "4fda574b",
   "metadata": {
    "id": "4fda574b"
   },
   "outputs": [],
   "source": []
  },
  {
   "cell_type": "code",
   "execution_count": null,
   "id": "50a32bb0",
   "metadata": {
    "id": "50a32bb0"
   },
   "outputs": [],
   "source": []
  },
  {
   "cell_type": "markdown",
   "id": "af6b7fb0",
   "metadata": {
    "id": "af6b7fb0"
   },
   "source": [
    "## Employee problem"
   ]
  },
  {
   "cell_type": "code",
   "execution_count": null,
   "id": "af91daf6",
   "metadata": {
    "id": "af91daf6"
   },
   "outputs": [],
   "source": [
    "class Employee:\n",
    "    def __init__(self, name, salary):\n",
    "        self._name = name\n",
    "        self._salary = salary\n",
    "        \n",
    "    def computeSalary(self):\n",
    "        return self._salary\n",
    "    \n",
    "class Manager(Employee):\n",
    "    def __init__(self, name, salary, bonus):\n",
    "        self._name = name\n",
    "        self._salary = salary\n",
    "        self.__bonus = bonus\n",
    "        \n",
    "    def computeSalary(self):\n",
    "        return super().computeSalary() + self.__bonus"
   ]
  },
  {
   "cell_type": "code",
   "execution_count": null,
   "id": "d99c716d",
   "metadata": {
    "id": "d99c716d",
    "outputId": "01ce7d7b-d351-4c15-ad4c-ea8b442c1235"
   },
   "outputs": [
    {
     "name": "stdout",
     "output_type": "stream",
     "text": [
      "Peter Salary: 120\n"
     ]
    }
   ],
   "source": [
    "peter = Manager('Peter', 100, 20)\n",
    "salary = peter.computeSalary()\n",
    "print(f'Peter Salary: {salary}')"
   ]
  },
  {
   "cell_type": "code",
   "execution_count": null,
   "id": "388ac64b",
   "metadata": {
    "id": "388ac64b"
   },
   "outputs": [],
   "source": []
  },
  {
   "cell_type": "markdown",
   "id": "6270b225",
   "metadata": {
    "id": "6270b225"
   },
   "source": [
    "## Shape"
   ]
  },
  {
   "cell_type": "code",
   "execution_count": null,
   "id": "b82082e9",
   "metadata": {
    "id": "b82082e9"
   },
   "outputs": [],
   "source": [
    "from abc import ABC, abstractmethod\n",
    "\n",
    "class Shape(ABC):\n",
    "    @abstractmethod\n",
    "    def computeArea(self):\n",
    "        pass"
   ]
  },
  {
   "cell_type": "code",
   "execution_count": null,
   "id": "911df673",
   "metadata": {
    "id": "911df673"
   },
   "outputs": [],
   "source": [
    "class Square(Shape):\n",
    "    def __init__(self, side):\n",
    "        self.__side = side\n",
    "        \n",
    "    def computeArea(self):\n",
    "        return self.__side*self.__side"
   ]
  },
  {
   "cell_type": "code",
   "execution_count": null,
   "id": "8886c1a5",
   "metadata": {
    "id": "8886c1a5",
    "outputId": "f60ccde1-84c3-4871-a952-53d097da0e16"
   },
   "outputs": [
    {
     "name": "stdout",
     "output_type": "stream",
     "text": [
      "25\n"
     ]
    }
   ],
   "source": [
    "square = Square(5)\n",
    "print(square.computeArea())"
   ]
  },
  {
   "cell_type": "code",
   "execution_count": null,
   "id": "aee87a2e",
   "metadata": {
    "id": "aee87a2e"
   },
   "outputs": [],
   "source": []
  },
  {
   "cell_type": "code",
   "execution_count": null,
   "id": "f7a8284e",
   "metadata": {
    "id": "f7a8284e"
   },
   "outputs": [],
   "source": [
    "from abc import ABC, abstractmethod\n",
    "\n",
    "class Shape(ABC):\n",
    "    @abstractmethod\n",
    "    def computeArea(self):\n",
    "        pass"
   ]
  },
  {
   "cell_type": "code",
   "execution_count": null,
   "id": "ae77dfbf",
   "metadata": {
    "id": "ae77dfbf"
   },
   "outputs": [],
   "source": [
    "class Cicle(Shape):\n",
    "    def __init__(self, radius):\n",
    "        self.__radius = radius"
   ]
  },
  {
   "cell_type": "code",
   "execution_count": null,
   "id": "c7917905",
   "metadata": {
    "id": "c7917905",
    "outputId": "ee63c0df-7dc8-47ee-d5f7-143a68d89904"
   },
   "outputs": [
    {
     "ename": "TypeError",
     "evalue": "Can't instantiate abstract class Cicle with abstract method computeArea",
     "output_type": "error",
     "traceback": [
      "\u001b[1;31m---------------------------------------------------------------------------\u001b[0m",
      "\u001b[1;31mTypeError\u001b[0m                                 Traceback (most recent call last)",
      "Input \u001b[1;32mIn [8]\u001b[0m, in \u001b[0;36m<cell line: 1>\u001b[1;34m()\u001b[0m\n\u001b[1;32m----> 1\u001b[0m circle \u001b[38;5;241m=\u001b[39m \u001b[43mCicle\u001b[49m\u001b[43m(\u001b[49m\u001b[38;5;241;43m5\u001b[39;49m\u001b[43m)\u001b[49m\n",
      "\u001b[1;31mTypeError\u001b[0m: Can't instantiate abstract class Cicle with abstract method computeArea"
     ]
    }
   ],
   "source": [
    "circle = Cicle(5)"
   ]
  },
  {
   "cell_type": "code",
   "execution_count": null,
   "id": "3e64c5f2",
   "metadata": {
    "id": "3e64c5f2"
   },
   "outputs": [],
   "source": []
  },
  {
   "cell_type": "code",
   "execution_count": null,
   "id": "18aafcab",
   "metadata": {
    "id": "18aafcab"
   },
   "outputs": [],
   "source": [
    "import math\n",
    "\n",
    "class Cicle(Shape):\n",
    "    def __init__(self, radius):\n",
    "        self.__radius = radius\n",
    "        \n",
    "    def computeArea(self):\n",
    "        return self.__radius*self.__radius*math.pi"
   ]
  },
  {
   "cell_type": "code",
   "execution_count": null,
   "id": "aea28ebc",
   "metadata": {
    "id": "aea28ebc",
    "outputId": "1b46f9ea-25f9-4be8-f4e5-790c5bf24e6e"
   },
   "outputs": [
    {
     "name": "stdout",
     "output_type": "stream",
     "text": [
      "78.53981633974483\n"
     ]
    }
   ],
   "source": [
    "circle = Cicle(5)\n",
    "print(circle.computeArea())"
   ]
  },
  {
   "cell_type": "code",
   "execution_count": null,
   "id": "430a57c1",
   "metadata": {
    "id": "430a57c1"
   },
   "outputs": [],
   "source": []
  },
  {
   "cell_type": "markdown",
   "id": "14448f63",
   "metadata": {
    "id": "14448f63"
   },
   "source": [
    "## Person - Doctor - Student"
   ]
  },
  {
   "cell_type": "code",
   "execution_count": null,
   "id": "cb8bcbbc",
   "metadata": {
    "id": "cb8bcbbc"
   },
   "outputs": [],
   "source": [
    "class Person:\n",
    "    def perform(self):\n",
    "        print('Person activities')\n",
    "        \n",
    "class Doctor(Person):\n",
    "    def perform(self):\n",
    "        print('Doctor activities')\n",
    "        \n",
    "class Student(Person):\n",
    "    def perform(self):\n",
    "        print('Student activities')"
   ]
  },
  {
   "cell_type": "code",
   "execution_count": null,
   "id": "7bfc8f18",
   "metadata": {
    "id": "7bfc8f18",
    "outputId": "1454c87a-73c8-4aa3-c6e8-93e04c0e6b5a"
   },
   "outputs": [
    {
     "name": "stdout",
     "output_type": "stream",
     "text": [
      "Person activities\n"
     ]
    }
   ],
   "source": [
    "person = Person()\n",
    "person.perform()"
   ]
  },
  {
   "cell_type": "code",
   "execution_count": null,
   "id": "f3ee3b1d",
   "metadata": {
    "id": "f3ee3b1d",
    "outputId": "3e2251ea-4ebb-4d4d-c540-8c35b1a8a108"
   },
   "outputs": [
    {
     "name": "stdout",
     "output_type": "stream",
     "text": [
      "Doctor activities\n"
     ]
    }
   ],
   "source": [
    "doctor = Doctor()\n",
    "doctor.perform()"
   ]
  },
  {
   "cell_type": "code",
   "execution_count": null,
   "id": "566d339c",
   "metadata": {
    "id": "566d339c",
    "outputId": "0dab3fa9-9178-4bad-bc12-3dabfa94bb59"
   },
   "outputs": [
    {
     "name": "stdout",
     "output_type": "stream",
     "text": [
      "Student activities\n"
     ]
    }
   ],
   "source": [
    "student = Student()\n",
    "student.perform()"
   ]
  },
  {
   "cell_type": "code",
   "execution_count": null,
   "id": "cbb15b2e",
   "metadata": {
    "id": "cbb15b2e"
   },
   "outputs": [],
   "source": []
  },
  {
   "cell_type": "code",
   "execution_count": null,
   "id": "3880e68f",
   "metadata": {
    "id": "3880e68f"
   },
   "outputs": [],
   "source": []
  }
 ],
 "metadata": {
  "colab": {
   "name": "Inheritance.ipynb",
   "provenance": []
  },
  "kernelspec": {
   "display_name": "Python 3 (ipykernel)",
   "language": "python",
   "name": "python3"
  },
  "language_info": {
   "codemirror_mode": {
    "name": "ipython",
    "version": 3
   },
   "file_extension": ".py",
   "mimetype": "text/x-python",
   "name": "python",
   "nbconvert_exporter": "python",
   "pygments_lexer": "ipython3",
   "version": "3.12.0rc1"
  }
 },
 "nbformat": 4,
 "nbformat_minor": 5
}
