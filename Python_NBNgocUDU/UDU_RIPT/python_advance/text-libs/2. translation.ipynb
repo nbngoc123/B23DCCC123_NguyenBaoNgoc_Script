{
 "cells": [
  {
   "cell_type": "markdown",
   "id": "95cefb84",
   "metadata": {},
   "source": [
    "### translate"
   ]
  },
  {
   "cell_type": "code",
   "execution_count": null,
   "id": "65b02807",
   "metadata": {},
   "outputs": [],
   "source": [
    "!pip install translate"
   ]
  },
  {
   "cell_type": "code",
   "execution_count": 1,
   "id": "30a428ce",
   "metadata": {},
   "outputs": [
    {
     "name": "stdout",
     "output_type": "stream",
     "text": [
      "Đừng khóc vì nó đã kết thúc, hãy mỉm cười vì nó đã xảy ra.\n"
     ]
    }
   ],
   "source": [
    "from translate import Translator\n",
    "\n",
    "translator= Translator(to_lang=\"vi\")\n",
    "translation = translator.translate(\"Don’t cry because it’s over, smile because it happened.\")\n",
    "print(translation)"
   ]
  },
  {
   "cell_type": "code",
   "execution_count": 2,
   "id": "1626ff67",
   "metadata": {},
   "outputs": [
    {
     "data": {
      "text/plain": [
       "'저는 영화를보고 있어요'"
      ]
     },
     "execution_count": 2,
     "metadata": {},
     "output_type": "execute_result"
    }
   ],
   "source": [
    "from translate import Translator\n",
    "\n",
    "translator= Translator(to_lang=\"ko\")\n",
    "translation = translator.translate(\"I'm studying\")\n",
    "translation"
   ]
  },
  {
   "cell_type": "code",
   "execution_count": null,
   "id": "ed9612dd",
   "metadata": {},
   "outputs": [],
   "source": []
  },
  {
   "cell_type": "markdown",
   "id": "28f8ea99",
   "metadata": {},
   "source": [
    "### googletrans"
   ]
  },
  {
   "cell_type": "code",
   "execution_count": null,
   "id": "5dac8eaf",
   "metadata": {},
   "outputs": [],
   "source": [
    "!pip install googletrans==4.0.0rc1"
   ]
  },
  {
   "cell_type": "code",
   "execution_count": null,
   "id": "53178b67",
   "metadata": {},
   "outputs": [],
   "source": [
    "from googletrans import Translator\n",
    "\n",
    "# define a translate object\n",
    "translate = Translator()\n",
    "\n",
    "# Translate some text\n",
    "result = translate.translate('Chúng tôi là nhóm vinasupport')\n",
    "\n",
    "print(result)\n",
    "print(result.text)"
   ]
  },
  {
   "cell_type": "code",
   "execution_count": null,
   "id": "1039be43",
   "metadata": {},
   "outputs": [],
   "source": [
    "from googletrans import Translator\n",
    "\n",
    "# define a translate object\n",
    "translate = Translator()\n",
    "\n",
    "# Translate some text\n",
    "result = translate.translate('Hôm nay thời tiết không tốt và mưa nhiều')\n",
    "\n",
    "print(result)\n",
    "print(result.text)"
   ]
  },
  {
   "cell_type": "code",
   "execution_count": null,
   "id": "8a55141b",
   "metadata": {},
   "outputs": [],
   "source": []
  },
  {
   "cell_type": "code",
   "execution_count": null,
   "id": "4ef3ec78",
   "metadata": {},
   "outputs": [],
   "source": []
  }
 ],
 "metadata": {
  "kernelspec": {
   "display_name": "Python 3 (ipykernel)",
   "language": "python",
   "name": "python3"
  },
  "language_info": {
   "codemirror_mode": {
    "name": "ipython",
    "version": 3
   },
   "file_extension": ".py",
   "mimetype": "text/x-python",
   "name": "python",
   "nbconvert_exporter": "python",
   "pygments_lexer": "ipython3",
   "version": "3.9.12"
  }
 },
 "nbformat": 4,
 "nbformat_minor": 5
}
