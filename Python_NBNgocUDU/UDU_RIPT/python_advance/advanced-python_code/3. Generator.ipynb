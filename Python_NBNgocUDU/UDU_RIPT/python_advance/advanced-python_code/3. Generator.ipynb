{
 "cells": [
  {
   "cell_type": "code",
   "execution_count": 1,
   "id": "5d33cda0",
   "metadata": {},
   "outputs": [],
   "source": [
    "# Generator\n",
    "\n",
    "def addValueSeries(value, maxValue=0):\n",
    "    n = 0\n",
    "    while n <= maxValue:\n",
    "        yield n + value\n",
    "        n += 1"
   ]
  },
  {
   "cell_type": "code",
   "execution_count": 15,
   "id": "f09086a0",
   "metadata": {},
   "outputs": [
    {
     "name": "stdout",
     "output_type": "stream",
     "text": [
      "<generator object addValueSeries at 0x00000203BC6890B0>\n",
      "<generator object addValueSeries at 0x00000203BC6890B0>\n",
      "5\n",
      "6\n",
      "7\n"
     ]
    }
   ],
   "source": [
    "numbers = addValueSeries(5, 2)\n",
    "print(numbers)\n",
    "iterator = iter(numbers)\n",
    "iterator = iter(iterator)\n",
    "print(iterator)\n",
    "\n",
    "print(next(numbers))\n",
    "print(next(numbers))\n",
    "print(next(numbers))"
   ]
  },
  {
   "cell_type": "code",
   "execution_count": null,
   "id": "fa47c81c",
   "metadata": {},
   "outputs": [],
   "source": []
  },
  {
   "cell_type": "code",
   "execution_count": null,
   "id": "4c7a1388",
   "metadata": {},
   "outputs": [],
   "source": [
    "numbers = addValueSeries(5, 2)\n",
    "numberIter = iter(numbers)\n",
    "\n",
    "print(next(numberIter))\n",
    "print(next(numberIter))\n",
    "print(next(numberIter))"
   ]
  },
  {
   "cell_type": "code",
   "execution_count": null,
   "id": "c6afc419",
   "metadata": {},
   "outputs": [],
   "source": [
    "numbers = addValueSeries(5, 2)\n",
    "numberIter = iter(numbers)\n",
    "\n",
    "print(next(numberIter))\n",
    "print(next(numberIter))\n",
    "print(next(numberIter))\n",
    "print(next(numberIter))"
   ]
  },
  {
   "cell_type": "code",
   "execution_count": null,
   "id": "ae1b55f1",
   "metadata": {},
   "outputs": [],
   "source": [
    "numbers = addValueSeries(-1, 3)\n",
    "numberIter = iter(numbers)\n",
    "\n",
    "try:\n",
    "    while True:\n",
    "        value = next(numberIter)\n",
    "        print(value)\n",
    "except StopIteration:\n",
    "    pass\n",
    "finally:\n",
    "    del numberIter"
   ]
  },
  {
   "cell_type": "code",
   "execution_count": null,
   "id": "cf9f1259",
   "metadata": {},
   "outputs": [],
   "source": []
  },
  {
   "cell_type": "code",
   "execution_count": null,
   "id": "e9ff5613",
   "metadata": {},
   "outputs": [],
   "source": [
    "# create a generator\n",
    "\n",
    "data = (i*i for i in range(3))\n",
    "print(type(data))"
   ]
  },
  {
   "cell_type": "code",
   "execution_count": null,
   "id": "30ca4a96",
   "metadata": {},
   "outputs": [],
   "source": [
    "for n in data:\n",
    "    print(n)"
   ]
  },
  {
   "cell_type": "code",
   "execution_count": null,
   "id": "3523dbb3",
   "metadata": {},
   "outputs": [],
   "source": []
  },
  {
   "cell_type": "markdown",
   "id": "a5f93013",
   "metadata": {},
   "source": [
    "## Iterator and Generator"
   ]
  },
  {
   "cell_type": "code",
   "execution_count": null,
   "id": "b4d5a7c3",
   "metadata": {},
   "outputs": [],
   "source": [
    "# There is a lot of work in building an iterator in Python. \n",
    "# We have to implement a class with __iter__() and __next__() method, keep track of internal states, \n",
    "# and raise StopIteration when there are no values to be returned.\n",
    "\n",
    "# This is both lengthy and counterintuitive. Generator comes to the rescue in such situations."
   ]
  },
  {
   "cell_type": "code",
   "execution_count": 8,
   "id": "73f6401f",
   "metadata": {},
   "outputs": [],
   "source": [
    "class DataLoading:        \n",
    "    def __init__(self, path, data_size, chunk_size=0):\n",
    "        self.path = path\n",
    "        self.data_size  = data_size\n",
    "        self.chunk_size = chunk_size\n",
    "\n",
    "    def __iter__(self):\n",
    "        self.index = 0\n",
    "        return self\n",
    "\n",
    "    def __next__(self):\n",
    "        if self.index*self.chunk_size <= self.data_size:\n",
    "            # load data from hard disk\n",
    "            from_index = self.index*self.chunk_size\n",
    "            to_index = min(self.data_size, (self.index+1)*self.chunk_size)\n",
    "            data = [i for i in range(from_index, to_index)]\n",
    "            \n",
    "            self.index += 1\n",
    "            \n",
    "            return data\n",
    "        else:\n",
    "            raise StopIteration"
   ]
  },
  {
   "cell_type": "code",
   "execution_count": 9,
   "id": "f95253a6",
   "metadata": {},
   "outputs": [
    {
     "name": "stdout",
     "output_type": "stream",
     "text": [
      "[0, 1, 2, 3, 4]\n",
      "[5, 6, 7, 8, 9]\n",
      "[10, 11, 12, 13, 14]\n",
      "[15, 16, 17, 18, 19]\n",
      "[20, 21]\n"
     ]
    }
   ],
   "source": [
    "data_loading = DataLoading('some path', 22, 5)\n",
    "for chunk in data_loading:\n",
    "    print(chunk)"
   ]
  },
  {
   "cell_type": "code",
   "execution_count": null,
   "id": "f7b8a60d",
   "metadata": {},
   "outputs": [],
   "source": []
  },
  {
   "cell_type": "code",
   "execution_count": null,
   "id": "bc429d38",
   "metadata": {},
   "outputs": [],
   "source": []
  },
  {
   "cell_type": "code",
   "execution_count": null,
   "id": "a988cba5",
   "metadata": {},
   "outputs": [],
   "source": []
  },
  {
   "cell_type": "code",
   "execution_count": null,
   "id": "8efb0476",
   "metadata": {},
   "outputs": [],
   "source": []
  },
  {
   "cell_type": "code",
   "execution_count": 10,
   "id": "b1839648",
   "metadata": {},
   "outputs": [],
   "source": [
    "def load_data(path, data_size, chunk_size=0):\n",
    "    index = 0\n",
    "    \n",
    "    while index*chunk_size <= data_size:\n",
    "        # load data from hard disk\n",
    "        from_index = index*chunk_size\n",
    "        to_index = min(data_size, (index+1)*chunk_size)\n",
    "        data = [i for i in range(from_index, to_index)]\n",
    "\n",
    "        index += 1\n",
    "\n",
    "        yield data"
   ]
  },
  {
   "cell_type": "code",
   "execution_count": 11,
   "id": "d12e849e",
   "metadata": {},
   "outputs": [],
   "source": [
    "generator = load_data('some path', 22, 5)"
   ]
  },
  {
   "cell_type": "code",
   "execution_count": 12,
   "id": "3dcd856f",
   "metadata": {},
   "outputs": [
    {
     "name": "stdout",
     "output_type": "stream",
     "text": [
      "[0, 1, 2, 3, 4]\n",
      "[5, 6, 7, 8, 9]\n",
      "[10, 11, 12, 13, 14]\n",
      "[15, 16, 17, 18, 19]\n",
      "[20, 21]\n"
     ]
    }
   ],
   "source": [
    "for chunk in generator:\n",
    "    print(chunk)"
   ]
  },
  {
   "cell_type": "code",
   "execution_count": null,
   "id": "e9e7201d",
   "metadata": {},
   "outputs": [],
   "source": []
  }
 ],
 "metadata": {
  "kernelspec": {
   "display_name": "Python 3 (ipykernel)",
   "language": "python",
   "name": "python3"
  },
  "language_info": {
   "codemirror_mode": {
    "name": "ipython",
    "version": 3
   },
   "file_extension": ".py",
   "mimetype": "text/x-python",
   "name": "python",
   "nbconvert_exporter": "python",
   "pygments_lexer": "ipython3",
   "version": "3.9.12"
  }
 },
 "nbformat": 4,
 "nbformat_minor": 5
}
